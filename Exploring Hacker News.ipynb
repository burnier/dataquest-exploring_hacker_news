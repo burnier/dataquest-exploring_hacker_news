{
 "cells": [
  {
   "cell_type": "markdown",
   "metadata": {},
   "source": [
    "# Exploring Hacker News\n",
    "In this project we analyze a partial dataset from the <a href=\"https://news.ycombinator.com/\">Hacker News website</a>. Hacker News is a site started by the startup incubator Y Combinator, where user-submitted stories (known as \"posts\") are voted and commented upon, similar to reddit. Hacker News is extremely popular in technology and startup circles, and posts that make it to the top of Hacker News' listings can get hundreds of thousands of visitors as a result.\n",
    "\n",
    "We are especially interedted in posts of these two types:\n",
    "* <font color='red'>Ask HN</font>: posts to ask the Hacker News community a specific question. \n",
    "* <font color='red'>Show HN`</font>: posts to show the Hacker News community a project, product, or just generally something interesting\n",
    "\n",
    "With our analysis we want to answer following quesitons:\n",
    "* Do <font color='red'>Ask HN</font> or <font color='red'>Show HN</font> receive more comments on average?\n",
    "* Do posts created at a certain time receive more comments on average?\n"
   ]
  },
  {
   "cell_type": "markdown",
   "metadata": {},
   "source": [
    "## Importing the Data"
   ]
  },
  {
   "cell_type": "code",
   "execution_count": 13,
   "metadata": {},
   "outputs": [],
   "source": [
    "from csv import reader\n",
    "\n",
    "opened_file = open('datasets/HN_posts_year_to_Sep_26_2016.csv', encoding=\"utf8\")\n",
    "read_file = reader(opened_file)\n",
    "hn = list(read_file)\n",
    "hn_header = hn[0]\n",
    "hn = hn[1:]"
   ]
  },
  {
   "cell_type": "markdown",
   "metadata": {},
   "source": [
    "To make it easier to explore the two data sets, we'll first write a function named `explore_data()` that we can use repeatedly to explore rows in a more readable way. We'll also add an option for our function to show the number of rows and columns for any data set."
   ]
  },
  {
   "cell_type": "code",
   "execution_count": 16,
   "metadata": {},
   "outputs": [
    {
     "name": "stdout",
     "output_type": "stream",
     "text": [
      "['id', 'title', 'url', 'num_points', 'num_comments', 'author', 'created_at']\n",
      "\n",
      "\n",
      "['12579008', 'You have two days to comment if you want stem cells to be classified as your own', 'http://www.regulations.gov/document?D=FDA-2015-D-3719-0018', '1', '0', 'altstar', '9/26/2016 3:26']\n",
      "\n",
      "\n",
      "['12579005', 'SQLAR  the SQLite Archiver', 'https://www.sqlite.org/sqlar/doc/trunk/README.md', '1', '0', 'blacksqr', '9/26/2016 3:24']\n",
      "\n",
      "\n",
      "['12578997', 'What if we just printed a flatscreen television on the side of our boxes?', 'https://medium.com/vanmoof/our-secrets-out-f21c1f03fdc8#.ietxmez43', '1', '0', 'pavel_lishin', '9/26/2016 3:19']\n",
      "\n",
      "\n",
      "['12578989', 'algorithmic music', 'http://cacm.acm.org/magazines/2011/7/109891-algorithmic-composition/fulltext', '1', '0', 'poindontcare', '9/26/2016 3:16']\n",
      "\n",
      "\n",
      "['12578979', 'How the Data Vault Enables the Next-Gen Data Warehouse and Data Lake', 'https://www.talend.com/blog/2016/05/12/talend-and-Â\\x93the-data-vaultÂ\\x94', '1', '0', 'markgainor1', '9/26/2016 3:14']\n",
      "\n",
      "\n",
      "Number of rows: 293119\n",
      "Number of columns: 7\n"
     ]
    }
   ],
   "source": [
    "def explore_data(dataset, start, end, rows_and_columns=False):\n",
    "    dataset_slice = dataset[start:end]    \n",
    "    for row in dataset_slice:\n",
    "        print(row)\n",
    "        print('\\n') # adds a new (empty) line between rows\n",
    "        \n",
    "    if rows_and_columns:\n",
    "        print('Number of rows:', len(dataset))\n",
    "        print('Number of columns:', len(dataset[0]))\n",
    "\n",
    "print(hn_header)\n",
    "print('\\n')\n",
    "explore_data(hn, 0, 5, True)"
   ]
  },
  {
   "cell_type": "markdown",
   "metadata": {},
   "source": [
    "Since we're only concerned with post titles beginning with Ask HN or Show HN, we'll create new lists of lists containing just the data for those titles. For this purpose we are going to use the string method `startswith`"
   ]
  },
  {
   "cell_type": "code",
   "execution_count": 24,
   "metadata": {},
   "outputs": [],
   "source": [
    "ask_posts = []\n",
    "show_posts = []\n",
    "other_posts = []\n",
    "\n",
    "for row in hn:\n",
    "    title = row[1]\n",
    "    # if the lowercase version of title starts with ask hn, append the row to ask_posts\n",
    "    if title.lower().startswith('ask hn'):\n",
    "        ask_posts.append(row)\n",
    "    # if the lowercase version of title starts with show hn, append the row to show_posts\n",
    "    elif title.lower().startswith('show hn'):\n",
    "        show_posts.append(row)\n",
    "    # otherwise append to the other_posts\n",
    "    else:\n",
    "        other_posts.append(row)"
   ]
  },
  {
   "cell_type": "markdown",
   "metadata": {},
   "source": [
    "Now we check the number of posts in each category and confirm that the total number of posts agrees with the one calculated above by the funciton `explore_data()`"
   ]
  },
  {
   "cell_type": "code",
   "execution_count": 35,
   "metadata": {},
   "outputs": [
    {
     "name": "stdout",
     "output_type": "stream",
     "text": [
      "Number of ask_posts:  9139\n",
      "Number of show_posts:  10158\n",
      "Number of other_posts:  273822\n",
      "Total Number of posts:  293119\n"
     ]
    }
   ],
   "source": [
    "print(\"Number of ask_posts: \",len(ask_posts))\n",
    "print(\"Number of show_posts: \",len(show_posts))\n",
    "print(\"Number of other_posts: \",len(other_posts))\n",
    "print(\"Total Number of posts: \", len(ask_posts)+len(show_posts)+len(other_posts))"
   ]
  },
  {
   "cell_type": "code",
   "execution_count": 36,
   "metadata": {},
   "outputs": [
    {
     "name": "stdout",
     "output_type": "stream",
     "text": [
      "['12578908', 'Ask HN: What TLD do you use for local development?', '', '4', '7', 'Sevrene', '9/26/2016 2:53']\n",
      "\n",
      "\n",
      "['12578522', 'Ask HN: How do you pass on your work when you die?', '', '6', '3', 'PascLeRasc', '9/26/2016 1:17']\n",
      "\n",
      "\n",
      "['12577908', 'Ask HN: How a DNS problem can be limited to a geographic region?', '', '1', '0', 'kuon', '9/25/2016 22:57']\n",
      "\n",
      "\n",
      "['12577870', 'Ask HN: Why join a fund when you can be an angel?', '', '1', '3', 'anthony_james', '9/25/2016 22:48']\n",
      "\n",
      "\n",
      "['12577647', 'Ask HN: Someone uses stock trading as passive income?', '', '5', '2', '00taffe', '9/25/2016 21:50']\n",
      "\n",
      "\n",
      "Number of rows: 9139\n",
      "Number of columns: 7\n"
     ]
    }
   ],
   "source": [
    "explore_data(ask_posts, 0, 5, True)"
   ]
  },
  {
   "cell_type": "markdown",
   "metadata": {},
   "source": [
    "Next, let's determine if ask posts or show posts receive more comments on average. We first determine the total number of comments for the ask_posts, then we calculate its average number. Next we calculate the same for show_posts and other_posts"
   ]
  },
  {
   "cell_type": "code",
   "execution_count": 43,
   "metadata": {},
   "outputs": [
    {
     "name": "stdout",
     "output_type": "stream",
     "text": [
      "Total number of ask_posts:  94986\n",
      "Average number of ask_posts: 10.39\n"
     ]
    }
   ],
   "source": [
    "total_ask_comments = 0\n",
    "for row in ask_posts:\n",
    "    num_comments = int(row[4])\n",
    "    total_ask_comments += num_comments\n",
    "    \n",
    "avg_ask_comments = total_ask_comments / len(ask_posts)\n",
    "\n",
    "print(\"Total number of ask_posts: \", total_ask_comments)\n",
    "print(\"Average number of ask_posts: {:.2f}\".format(avg_ask_comments))"
   ]
  },
  {
   "cell_type": "code",
   "execution_count": 45,
   "metadata": {
    "scrolled": true
   },
   "outputs": [
    {
     "name": "stdout",
     "output_type": "stream",
     "text": [
      "Total number of show_posts:  49633\n",
      "Average number of show_posts: 4.89\n"
     ]
    }
   ],
   "source": [
    "total_show_comments = 0\n",
    "for row in show_posts:\n",
    "    num_comments = int(row[4])\n",
    "    total_show_comments += num_comments\n",
    "    \n",
    "avg_show_comments = total_show_comments / len(show_posts)\n",
    "\n",
    "print(\"Total number of show_posts: \", total_show_comments)\n",
    "print(\"Average number of show_posts: {:.2f}\".format(avg_show_comments))"
   ]
  },
  {
   "cell_type": "code",
   "execution_count": 46,
   "metadata": {},
   "outputs": [
    {
     "name": "stdout",
     "output_type": "stream",
     "text": [
      "Total number of other_posts:  1768142\n",
      "Average number of other_posts: 6.46\n"
     ]
    }
   ],
   "source": [
    "total_other_comments = 0\n",
    "for row in other_posts:\n",
    "    num_comments = int(row[4])\n",
    "    total_other_comments += num_comments\n",
    "    \n",
    "avg_other_comments = total_other_comments / len(other_posts)\n",
    "\n",
    "print(\"Total number of other_posts: \", total_other_comments)\n",
    "print(\"Average number of other_posts: {:.2f}\".format(avg_other_comments))"
   ]
  },
  {
   "cell_type": "markdown",
   "metadata": {},
   "source": [
    "We can see from the results above that ask_posts receive in average more comments than other kinds of posts, while show_posts receive less comments in average. \n",
    "\n",
    "We will therefore use the ask_posts for our further analysis to determine if there is a certain time when a higher number of comments are written, following these steps:\n",
    "\n",
    "1. Calculate the amount of ask posts created in each hour of the day, along with the number of comments received.\n",
    "2. Calculate the average number of comments ask posts receive by hour created."
   ]
  },
  {
   "cell_type": "markdown",
   "metadata": {},
   "source": [
    "Frist we store both the time of creation of each entry from ask_posts and its number of comments in a separate variable `result_list`"
   ]
  },
  {
   "cell_type": "code",
   "execution_count": 74,
   "metadata": {},
   "outputs": [],
   "source": [
    "import datetime as dt\n",
    "result_list = []\n",
    "\n",
    "for row in ask_posts:\n",
    "    created_at = row[6]\n",
    "    num_comments = int(row[4])\n",
    "    result_list.append([created_at,num_comments]) \n",
    "    \n"
   ]
  },
  {
   "cell_type": "markdown",
   "metadata": {},
   "source": [
    "Now we are going to separate the number of comments in time slots (every hour) - For this we make use of dictionaries & the datetime library"
   ]
  },
  {
   "cell_type": "code",
   "execution_count": 81,
   "metadata": {},
   "outputs": [],
   "source": [
    "import datetime as dt\n",
    "\n",
    "counts_by_hour = {}\n",
    "comments_by_hour = {}\n",
    "\n",
    "date_format = \"%m/%d/%Y %H:%M\"\n",
    "\n",
    "for row in result_list:\n",
    "    date_dt = dt.datetime.strptime(row[0],date_format)\n",
    "    hout_dt = date_dt.hour\n",
    "    \n",
    "    num_comments = row[1] \n",
    "    \n",
    "    if hout_dt in counts_by_hour:\n",
    "        counts_by_hour[hout_dt] += 1\n",
    "        comments_by_hour[hout_dt] += num_comments\n",
    "    else:\n",
    "        counts_by_hour[hout_dt] = 1\n",
    "        comments_by_hour[hout_dt] = num_comments\n",
    "        \n",
    "    \n"
   ]
  },
  {
   "cell_type": "markdown",
   "metadata": {},
   "source": [
    "`counts_by_hour` and `comments_by_hour` contain how many posts and how many comments were made within the considered hour, respectively. \n",
    "\n",
    "Now we calculate the average number of comments for posts created during each hour of the day"
   ]
  },
  {
   "cell_type": "code",
   "execution_count": 105,
   "metadata": {},
   "outputs": [
    {
     "data": {
      "text/plain": [
       "[[2, 11.137546468401487],\n",
       " [1, 7.407801418439717],\n",
       " [22, 8.804177545691905],\n",
       " [21, 8.687258687258687],\n",
       " [19, 7.163043478260869],\n",
       " [17, 9.449744463373083],\n",
       " [15, 28.676470588235293],\n",
       " [14, 9.692007797270955],\n",
       " [13, 16.31756756756757],\n",
       " [11, 8.96474358974359],\n",
       " [10, 10.684397163120567],\n",
       " [9, 6.653153153153153],\n",
       " [7, 7.013274336283186],\n",
       " [3, 7.948339483394834],\n",
       " [23, 6.696793002915452],\n",
       " [20, 8.749019607843136],\n",
       " [16, 7.713298791018998],\n",
       " [8, 9.190661478599221],\n",
       " [0, 7.5647840531561465],\n",
       " [18, 7.94299674267101],\n",
       " [12, 12.380116959064328],\n",
       " [4, 9.7119341563786],\n",
       " [6, 6.782051282051282],\n",
       " [5, 8.794258373205741]]"
      ]
     },
     "execution_count": 105,
     "metadata": {},
     "output_type": "execute_result"
    }
   ],
   "source": [
    "avg_by_hour = []\n",
    "\n",
    "for hour in comments_by_hour:\n",
    "    avg_by_hour.append([hour, comments_by_hour[hour] / counts_by_hour[hour] ])\n",
    "avg_by_hour"
   ]
  },
  {
   "cell_type": "markdown",
   "metadata": {},
   "source": [
    "To make the vizualisation easier we sort the list is descending order of avg value "
   ]
  },
  {
   "cell_type": "code",
   "execution_count": 128,
   "metadata": {},
   "outputs": [
    {
     "name": "stdout",
     "output_type": "stream",
     "text": [
      "Top 5 Hours for Ask Posts Comments\n",
      "\n",
      "15:00: 28.68 average comments per post.\n",
      "13:00: 16.32 average comments per post.\n",
      "12:00: 12.38 average comments per post.\n",
      "02:00: 11.14 average comments per post.\n",
      "10:00: 10.68 average comments per post.\n"
     ]
    }
   ],
   "source": [
    "sorted_avg_by_hour = sorted(avg_by_hour, key=lambda x: x[1],reverse = True)\n",
    "sorted_avg_by_hour\n",
    "\n",
    "print('Top 5 Hours for Ask Posts Comments\\n')\n",
    "\n",
    "date_format = \"%H\"\n",
    "\n",
    "for row in sorted_avg_by_hour[:5]:\n",
    "    date_dt = dt.datetime.strptime(str(row[0]),date_format)\n",
    "    dt_string = date_dt.strftime(\"%H:%M\")\n",
    "    \n",
    "    print('{}: {:.2f} average comments per post.'.format(dt_string, row[1]))"
   ]
  },
  {
   "cell_type": "markdown",
   "metadata": {},
   "source": [
    "In this project, we analyzed ask posts and show posts to determine which type of post and time receive the most comments on average. Ask posts receive the highest average of comments.\n",
    "\n",
    "Based on the analysis of ask posts, to maximize the amount of comments a post receives, we'd recommend the post be categorized as ask post and created between 15:00 and 16:00 (note that we excluded posts without any comments).\n",
    "\n",
    "It is interesting to note that there are also many comments written between 02:00 and 03:00 (11.14 average), which means that Hackers never sleep ;-)"
   ]
  },
  {
   "cell_type": "code",
   "execution_count": null,
   "metadata": {},
   "outputs": [],
   "source": []
  }
 ],
 "metadata": {
  "kernelspec": {
   "display_name": "Python 3",
   "language": "python",
   "name": "python3"
  },
  "language_info": {
   "codemirror_mode": {
    "name": "ipython",
    "version": 3
   },
   "file_extension": ".py",
   "mimetype": "text/x-python",
   "name": "python",
   "nbconvert_exporter": "python",
   "pygments_lexer": "ipython3",
   "version": "3.6.9"
  }
 },
 "nbformat": 4,
 "nbformat_minor": 2
}
